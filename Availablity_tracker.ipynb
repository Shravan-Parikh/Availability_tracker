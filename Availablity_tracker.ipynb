{
 "cells": [
  {
   "cell_type": "code",
   "execution_count": 22,
   "id": "cd3c22d3",
   "metadata": {},
   "outputs": [
    {
     "name": "stdout",
     "output_type": "stream",
     "text": [
      "Requirement already satisfied: pytz in c:\\users\\parik\\anaconda3\\lib\\site-packages (2021.3)\n"
     ]
    }
   ],
   "source": [
    "!pip install pytz"
   ]
  },
  {
   "cell_type": "code",
   "execution_count": 33,
   "id": "94f1089e",
   "metadata": {},
   "outputs": [
    {
     "name": "stdout",
     "output_type": "stream",
     "text": [
      "The optimal meeting time is 08:00 IST.\n"
     ]
    }
   ],
   "source": [
    "from collections import Counter\n",
    "from datetime import datetime\n",
    "import pytz\n",
    "\n",
    "def convert_time_zone(time, from_zone, to_zone):\n",
    "    from_zone = pytz.timezone(from_zone)\n",
    "    to_zone = pytz.timezone(to_zone)\n",
    "    \n",
    "    from_zone_time = datetime.strptime(time, '%H:%M')#to convert and parse time as time object in hours:minute format\n",
    "\n",
    "    from_zone_time = from_zone.localize(from_zone_time)\n",
    "\n",
    "    to_zone_time = from_zone_time.astimezone(to_zone)#converting time zone to the timezone requried.\n",
    "\n",
    "    return to_zone_time.strftime('%H:%M')\n",
    "\n",
    "def availability_tracker(availability_list):\n",
    "\n",
    "    time_counter = Counter()#counting timezone\n",
    "\n",
    "    for member in availability_list:\n",
    "        for time_slot in member['availability']:\n",
    "            target_timezone = convert_time_zone(time_slot, member['timezone'], 'Asia/Kolkata')#converting into common timezone\n",
    "            time_counter[target_timezone] += 1\n",
    "\n",
    "    optimal_time = time_counter.most_common(1)[0][0]  #most common time\n",
    "\n",
    "    return optimal_time\n",
    "\n",
    "team_availability = [\n",
    "    {\"name\": \"John\", \"availability\": [\"08:00\", \"09:30\", \"14:00\"], \"timezone\": \"America/New_York\"},\n",
    "    {\"name\": \"Alice\", \"availability\": [\"08:30\", \"09:30\", \"14:30\"], \"timezone\": \"Europe/London\"},\n",
    "    {\"name\": \"Bob\", \"availability\": [\"08:00\", \"09:30\", \"14:30\"], \"timezone\": \"Asia/Kolkata\"}\n",
    "]\n",
    "\n",
    "optimal_meeting_time = availability_tracker(team_availability)\n",
    "print(f\"The optimal meeting time is {optimal_meeting_time} IST.\")\n"
   ]
  }
 ],
 "metadata": {
  "kernelspec": {
   "display_name": "Python 3 (ipykernel)",
   "language": "python",
   "name": "python3"
  },
  "language_info": {
   "codemirror_mode": {
    "name": "ipython",
    "version": 3
   },
   "file_extension": ".py",
   "mimetype": "text/x-python",
   "name": "python",
   "nbconvert_exporter": "python",
   "pygments_lexer": "ipython3",
   "version": "3.9.7"
  }
 },
 "nbformat": 4,
 "nbformat_minor": 5
}
